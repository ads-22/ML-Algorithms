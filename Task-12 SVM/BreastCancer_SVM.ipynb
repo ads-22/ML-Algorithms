{
 "cells": [
  {
   "cell_type": "code",
   "execution_count": 1,
   "metadata": {},
   "outputs": [],
   "source": [
    "import numpy as np\n",
    "import matplotlib.pyplot as plt\n",
    "import pandas as pd\n",
    "\n",
    "from sklearn.model_selection import train_test_split\n",
    "from sklearn import datasets"
   ]
  },
  {
   "cell_type": "code",
   "execution_count": 2,
   "metadata": {},
   "outputs": [],
   "source": [
    "data = datasets.load_breast_cancer()"
   ]
  },
  {
   "cell_type": "code",
   "execution_count": 3,
   "metadata": {},
   "outputs": [],
   "source": [
    "X = data.data\n",
    "Y = data.target"
   ]
  },
  {
   "cell_type": "code",
   "execution_count": 4,
   "metadata": {},
   "outputs": [
    {
     "name": "stdout",
     "output_type": "stream",
     "text": [
      "[-1 -1 -1 -1 -1 -1 -1 -1 -1 -1 -1 -1 -1 -1 -1 -1 -1 -1 -1  1  1  1 -1 -1\n",
      " -1 -1 -1 -1 -1 -1 -1 -1 -1 -1 -1 -1 -1  1 -1 -1 -1 -1 -1 -1 -1 -1  1 -1\n",
      "  1  1  1  1  1 -1 -1  1 -1 -1  1  1  1  1 -1  1 -1 -1  1  1  1  1 -1  1\n",
      " -1 -1  1 -1  1 -1 -1  1  1  1 -1 -1  1 -1 -1 -1  1  1  1 -1  1  1 -1 -1\n",
      "  1  1  1 -1 -1  1  1  1  1 -1  1  1 -1  1  1  1  1  1  1  1  1 -1 -1 -1\n",
      "  1 -1 -1  1  1  1 -1 -1  1 -1  1 -1 -1  1 -1 -1  1  1 -1  1  1 -1  1  1\n",
      "  1  1 -1  1  1  1  1  1  1  1  1  1 -1  1  1  1  1 -1 -1  1 -1  1  1 -1\n",
      " -1  1  1 -1 -1  1  1  1  1 -1  1  1 -1 -1 -1  1 -1  1 -1  1  1  1 -1  1\n",
      "  1 -1 -1  1 -1 -1 -1 -1  1 -1 -1 -1  1 -1  1 -1  1  1 -1  1 -1 -1 -1 -1\n",
      "  1  1 -1 -1  1  1  1 -1  1  1  1  1  1 -1 -1  1  1 -1  1  1 -1 -1  1 -1\n",
      "  1  1  1  1 -1  1  1  1  1  1 -1  1 -1 -1 -1 -1 -1 -1 -1 -1 -1 -1 -1 -1\n",
      " -1 -1  1  1  1  1  1  1 -1  1 -1  1  1 -1  1  1 -1  1 -1 -1  1  1  1  1\n",
      "  1  1  1  1  1  1  1  1  1 -1  1  1 -1  1 -1  1  1  1  1  1  1  1  1  1\n",
      "  1  1  1  1  1 -1  1  1  1 -1  1 -1  1  1  1  1 -1 -1 -1  1  1  1  1 -1\n",
      "  1 -1  1 -1  1  1  1 -1  1  1  1  1  1  1  1 -1 -1 -1  1  1  1  1  1  1\n",
      "  1  1  1  1  1 -1 -1  1 -1 -1 -1  1 -1 -1  1  1  1  1  1 -1  1  1  1  1\n",
      "  1 -1  1  1  1 -1  1  1 -1 -1  1  1  1  1  1  1 -1  1  1  1  1  1  1  1\n",
      " -1  1  1  1  1  1 -1  1  1 -1  1  1  1  1  1  1  1  1  1  1  1  1 -1  1\n",
      " -1 -1  1 -1  1  1  1  1  1 -1  1  1 -1  1 -1  1  1 -1  1 -1  1  1  1  1\n",
      "  1  1  1  1 -1 -1  1  1  1  1  1  1 -1  1  1  1  1  1  1  1  1  1  1 -1\n",
      "  1  1  1  1  1  1  1 -1  1 -1  1  1 -1  1  1  1  1  1 -1 -1  1 -1  1 -1\n",
      "  1  1  1  1  1 -1  1  1 -1  1 -1  1 -1 -1  1  1  1 -1  1  1  1  1  1  1\n",
      "  1  1  1  1  1 -1  1 -1 -1  1  1  1  1  1  1  1  1  1  1  1  1  1  1  1\n",
      "  1  1  1  1  1  1  1  1  1  1 -1 -1 -1 -1 -1 -1  1]\n"
     ]
    }
   ],
   "source": [
    "Y[Y==0] =-1\n",
    "print(Y)"
   ]
  },
  {
   "cell_type": "code",
   "execution_count": null,
   "metadata": {},
   "outputs": [],
   "source": []
  },
  {
   "cell_type": "code",
   "execution_count": 6,
   "metadata": {},
   "outputs": [
    {
     "name": "stdout",
     "output_type": "stream",
     "text": [
      "(455, 30) (114, 30)\n",
      "(455,) (114,)\n"
     ]
    }
   ],
   "source": [
    "X_train, X_test, Y_train, Y_test = train_test_split(X, Y, test_size=0.20)\n",
    "print(X_train.shape,X_test.shape)\n",
    "print(Y_train.shape,Y_test.shape)"
   ]
  },
  {
   "cell_type": "code",
   "execution_count": 7,
   "metadata": {},
   "outputs": [
    {
     "name": "stdout",
     "output_type": "stream",
     "text": [
      "(455, 1) (114, 1)\n"
     ]
    }
   ],
   "source": [
    "Y_train = Y_train.reshape((-1,1))\n",
    "Y_test = Y_test.reshape((-1,1))\n",
    "print(Y_train.shape,Y_test.shape)"
   ]
  },
  {
   "cell_type": "code",
   "execution_count": 22,
   "metadata": {},
   "outputs": [],
   "source": [
    "class SVM:\n",
    "    def __init__(self,C=1.0):\n",
    "        self.C =C\n",
    "        # Weights\n",
    "        self.W =0\n",
    "        # bias\n",
    "        self.b =0\n",
    "    # Loss -->W,T\n",
    "    def hingeLoss(self,W,b,X,Y):\n",
    "        loss =0.0\n",
    "        loss+=0.5 *np.dot(W,W.T)\n",
    "        # Iterate over all examples\n",
    "        m = X.shape[0]\n",
    "        for i in range(m):\n",
    "            ti = Y[i] * (np.dot(W,X[i].T))\n",
    "            loss+= self.C * max(0,(1-ti))\n",
    "        return loss[0][0]\n",
    "    def fit(self,X,Y,batch_size=100,lr=0.001,max_itr=300):\n",
    "        no_of_features = X.shape[1]\n",
    "        no_of_samples = X.shape[0]\n",
    "        n = lr\n",
    "        C= self.C\n",
    "        \n",
    "        # initializing parameter\n",
    "        W = np.zeros((1,no_of_features))\n",
    "        bias = 0\n",
    "        print(self.hingeLoss(W,bias,X,Y))\n",
    "        \n",
    "        # Training\n",
    "        losses = []\n",
    "        for i in range(max_itr):\n",
    "            l = self.hingeLoss(W,bias,X,Y)\n",
    "            losses.append(l)\n",
    "            \n",
    "            ids = np.arange(no_of_samples)\n",
    "            np.random.shuffle(ids)\n",
    "            \n",
    "            # Batch Gradient\n",
    "            for batch_start in range(0,no_of_samples,batch_size):\n",
    "                # 0 gradient for batch\n",
    "                gradw =0\n",
    "                gradb =0\n",
    "                # Iterate over all examples in mini batch\n",
    "                for j in range(batch_size,batch_start+batch_size):\n",
    "                    if j<no_of_samples:\n",
    "                        i = ids[j]\n",
    "                        ti = Y[i] * (np.dot(W,X[i].T)+bias)\n",
    "                        if ti<1:\n",
    "                            gradw += C*Y[i]*X[i]\n",
    "                            gradb += C*Y[i]\n",
    "            W = W - n*W +n*gradw\n",
    "            bias = bias + n*gradb\n",
    "            \n",
    "        self.W = W\n",
    "        self.b = bias\n",
    "            \n",
    "        return W,bias,losses\n",
    "\n"
   ]
  },
  {
   "cell_type": "code",
   "execution_count": 9,
   "metadata": {},
   "outputs": [],
   "source": [
    "def accuracy(y_true, y_pred):\n",
    "    accuracy = np.sum(y_true == y_pred) / len(y_true)\n",
    "    return accuracy\n",
    "def predict(X,W,b):\n",
    "        approx = np.dot(X,W.T) -b\n",
    "        return np.sign(approx)"
   ]
  },
  {
   "cell_type": "code",
   "execution_count": 23,
   "metadata": {},
   "outputs": [
    {
     "name": "stdout",
     "output_type": "stream",
     "text": [
      "455.0\n",
      "[[ 7.52594507e+01  1.33712843e+02  4.56860254e+02  4.38411837e+02\n",
      "   7.89717985e-01  2.00277262e-01 -5.99710488e-01 -2.86978905e-01\n",
      "   1.49369840e+00  5.93757483e-01  2.45060551e-01  1.02377240e+01\n",
      "   4.97415344e-01 -1.78864857e+02  5.95096930e-02  7.29562627e-02\n",
      "   6.21495415e-02  3.87345246e-02  1.63813185e-01  2.54782768e-02\n",
      "   7.46289296e+01  1.74206747e+02  4.49666619e+02 -4.68842207e+02\n",
      "   1.04480876e+00  1.66012222e-01 -8.32893557e-01 -1.38175586e-01\n",
      "   2.16290970e+00  6.53906932e-01]]\n",
      "[11.597]\n",
      "(1, 30) (569, 30)\n",
      "0.8967032967032967\n",
      "0.8596491228070176\n"
     ]
    }
   ],
   "source": [
    "mySVM = SVM()\n",
    "W,b,losses = mySVM.fit(X_train,Y_train,max_itr=300)\n",
    "print(W)\n",
    "print(b)\n",
    "print(W.shape,X.shape)\n",
    "y1= predict(X_train,W,b)\n",
    "print(accuracy(y1,Y_train))\n",
    "y2 = predict(X_test,W,b)\n",
    "print(accuracy(y2,Y_test))"
   ]
  },
  {
   "cell_type": "code",
   "execution_count": 26,
   "metadata": {},
   "outputs": [
    {
     "name": "stdout",
     "output_type": "stream",
     "text": [
      "227.5\n",
      "0.8549450549450549\n",
      "0.8508771929824561\n"
     ]
    }
   ],
   "source": [
    "mySVM = SVM(C=0.5)\n",
    "W,b,losses = mySVM.fit(X_train,Y_train,max_itr=300)\n",
    "y1= predict(X_train,W,b)\n",
    "print(accuracy(y1,Y_train))\n",
    "y2 = predict(X_test,W,b)\n",
    "print(accuracy(y2,Y_test))"
   ]
  },
  {
   "cell_type": "code",
   "execution_count": 27,
   "metadata": {},
   "outputs": [
    {
     "name": "stdout",
     "output_type": "stream",
     "text": [
      "364.000000000003\n",
      "0.9098901098901099\n",
      "0.8859649122807017\n"
     ]
    }
   ],
   "source": [
    "mySVM = SVM(C=0.8)\n",
    "W,b,losses = mySVM.fit(X_train,Y_train,max_itr=300)\n",
    "y1= predict(X_train,W,b)\n",
    "print(accuracy(y1,Y_train))\n",
    "y2 = predict(X_test,W,b)\n",
    "print(accuracy(y2,Y_test))"
   ]
  },
  {
   "cell_type": "code",
   "execution_count": 20,
   "metadata": {},
   "outputs": [
    {
     "name": "stdout",
     "output_type": "stream",
     "text": [
      "455.0\n",
      "[[ 7.66481743e+01  1.35925072e+02  4.65375767e+02  4.48128333e+02\n",
      "   8.00995063e-01  2.04669048e-01 -6.07456509e-01 -2.89989485e-01\n",
      "   1.51764075e+00  6.02856177e-01  2.03311424e-01  1.03370290e+01\n",
      "   1.92325540e-01 -1.90006427e+02  5.99469622e-02  7.38423414e-02\n",
      "   6.21846878e-02  3.93514500e-02  1.66020227e-01  2.58230925e-02\n",
      "   7.59560856e+01  1.77225816e+02  4.58047380e+02 -4.89188468e+02\n",
      "   1.06287335e+00  1.94562398e-01 -8.23284965e-01 -1.31194542e-01\n",
      "   2.21406061e+00  6.66808262e-01]]\n",
      "[11.738]\n",
      "(1, 30) (569, 30)\n",
      "0.8571428571428571\n",
      "0.8508771929824561\n"
     ]
    }
   ],
   "source": [
    "mySVM = SVM()\n",
    "W,b,losses = mySVM.fit(X_train,Y_train,max_itr=300)\n",
    "print(W)\n",
    "print(b)\n",
    "print(W.shape,X.shape)\n",
    "y1= predict(X_train,W,b)\n",
    "print(accuracy(y1,Y_train))\n",
    "y2 = predict(X_test,W,b)\n",
    "print(accuracy(y2,Y_test))"
   ]
  }
 ],
 "metadata": {
  "kernelspec": {
   "display_name": "Python 3",
   "language": "python",
   "name": "python3"
  },
  "language_info": {
   "codemirror_mode": {
    "name": "ipython",
    "version": 3
   },
   "file_extension": ".py",
   "mimetype": "text/x-python",
   "name": "python",
   "nbconvert_exporter": "python",
   "pygments_lexer": "ipython3",
   "version": "3.8.5"
  }
 },
 "nbformat": 4,
 "nbformat_minor": 4
}
