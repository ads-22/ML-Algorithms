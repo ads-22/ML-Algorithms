{
 "cells": [
  {
   "cell_type": "code",
   "execution_count": 2,
   "metadata": {},
   "outputs": [],
   "source": [
    "import numpy as np"
   ]
  },
  {
   "cell_type": "markdown",
   "metadata": {},
   "source": [
    "VECTOR"
   ]
  },
  {
   "cell_type": "code",
   "execution_count": 3,
   "metadata": {},
   "outputs": [
    {
     "name": "stdout",
     "output_type": "stream",
     "text": [
      "[[4]\n",
      " [5]\n",
      " [6]]\n",
      "(3, 1)\n"
     ]
    }
   ],
   "source": [
    "x=np.array([[4],[5],[6]])\n",
    "print(x)\n",
    "print(x.shape)"
   ]
  },
  {
   "cell_type": "code",
   "execution_count": 4,
   "metadata": {},
   "outputs": [
    {
     "name": "stdout",
     "output_type": "stream",
     "text": [
      "[4 5 6]\n",
      "(3,)\n"
     ]
    }
   ],
   "source": [
    "x=np.array([4,5,6])\n",
    "print(x)\n",
    "print(x.shape)"
   ]
  },
  {
   "cell_type": "markdown",
   "metadata": {},
   "source": [
    "MATRIX"
   ]
  },
  {
   "cell_type": "code",
   "execution_count": 5,
   "metadata": {},
   "outputs": [
    {
     "name": "stdout",
     "output_type": "stream",
     "text": [
      "(3, 4)\n"
     ]
    }
   ],
   "source": [
    "X=np.array([[4,7,5,10],\n",
    "            [10,11,13,12],\n",
    "            [56,80,90,16]])\n",
    "print(X.shape)"
   ]
  },
  {
   "cell_type": "code",
   "execution_count": 6,
   "metadata": {},
   "outputs": [
    {
     "name": "stdout",
     "output_type": "stream",
     "text": [
      "[[ 4  7  5 10]\n",
      " [10 11 13 12]\n",
      " [56 80 90 16]]\n"
     ]
    }
   ],
   "source": [
    "X.reshape((2,6))\n",
    "print(X)"
   ]
  },
  {
   "cell_type": "code",
   "execution_count": 7,
   "metadata": {},
   "outputs": [
    {
     "name": "stdout",
     "output_type": "stream",
     "text": [
      "[[ 4  7  5 10]\n",
      " [10 11 13 12]\n",
      " [56 80 90 16]]\n"
     ]
    },
    {
     "data": {
      "text/plain": [
       "(3, 4)"
      ]
     },
     "execution_count": 7,
     "metadata": {},
     "output_type": "execute_result"
    }
   ],
   "source": [
    "X.reshape((4,-1))\n",
    "print(X)\n",
    "X.shape"
   ]
  },
  {
   "cell_type": "markdown",
   "metadata": {},
   "source": [
    "TENSOR"
   ]
  },
  {
   "cell_type": "code",
   "execution_count": 14,
   "metadata": {},
   "outputs": [
    {
     "name": "stdout",
     "output_type": "stream",
     "text": [
      "[[[1 1 1]\n",
      "  [1 1 1]\n",
      "  [1 1 1]\n",
      "  [1 1 1]\n",
      "  [1 1 1]]\n",
      "\n",
      " [[1 1 1]\n",
      "  [1 1 1]\n",
      "  [1 1 1]\n",
      "  [1 1 1]\n",
      "  [1 1 1]]\n",
      "\n",
      " [[1 1 1]\n",
      "  [1 1 1]\n",
      "  [1 1 1]\n",
      "  [1 1 1]\n",
      "  [1 1 1]]\n",
      "\n",
      " [[1 1 1]\n",
      "  [1 1 1]\n",
      "  [1 1 1]\n",
      "  [1 1 1]\n",
      "  [1 1 1]]\n",
      "\n",
      " [[1 1 1]\n",
      "  [1 1 1]\n",
      "  [1 1 1]\n",
      "  [1 1 1]\n",
      "  [1 1 1]]]\n"
     ]
    }
   ],
   "source": [
    "t=np.ones((5,5,3),dtype='uint8')\n",
    "print(t)"
   ]
  },
  {
   "cell_type": "code",
   "execution_count": null,
   "metadata": {},
   "outputs": [],
   "source": [
    "pip install matplotlib"
   ]
  },
  {
   "cell_type": "code",
   "execution_count": 9,
   "metadata": {},
   "outputs": [],
   "source": [
    "import matplotlib.pyplot as plt"
   ]
  },
  {
   "cell_type": "code",
   "execution_count": 10,
   "metadata": {},
   "outputs": [
    {
     "name": "stdout",
     "output_type": "stream",
     "text": [
      "[[[0 0 0]\n",
      "  [0 0 0]\n",
      "  [0 0 0]\n",
      "  [0 0 0]\n",
      "  [0 0 0]]\n",
      "\n",
      " [[0 0 0]\n",
      "  [0 0 0]\n",
      "  [0 0 0]\n",
      "  [0 0 0]\n",
      "  [0 0 0]]\n",
      "\n",
      " [[0 0 0]\n",
      "  [0 0 0]\n",
      "  [0 0 0]\n",
      "  [0 0 0]\n",
      "  [0 0 0]]\n",
      "\n",
      " [[0 0 0]\n",
      "  [0 0 0]\n",
      "  [0 0 0]\n",
      "  [0 0 0]\n",
      "  [0 0 0]]\n",
      "\n",
      " [[0 0 0]\n",
      "  [0 0 0]\n",
      "  [0 0 0]\n",
      "  [0 0 0]\n",
      "  [0 0 0]]]\n"
     ]
    }
   ],
   "source": [
    "T=np.zeros((5,5,3),dtype='uint8')\n",
    "print(T)"
   ]
  },
  {
   "cell_type": "code",
   "execution_count": 11,
   "metadata": {},
   "outputs": [
    {
     "data": {
      "text/plain": [
       "<matplotlib.image.AxesImage at 0xf1999a0>"
      ]
     },
     "execution_count": 11,
     "metadata": {},
     "output_type": "execute_result"
    },
    {
     "data": {
      "image/png": "[encoded data removed]",
      "text/plain": [
       "<Figure size 432x288 with 1 Axes>"
      ]
     },
     "metadata": {
      "needs_background": "light"
     },
     "output_type": "display_data"
    }
   ],
   "source": [
    "plt.imshow(T)"
   ]
  },
  {
   "cell_type": "code",
   "execution_count": 12,
   "metadata": {},
   "outputs": [],
   "source": [
    "plt.show()"
   ]
  },
  {
   "cell_type": "code",
   "execution_count": 15,
   "metadata": {},
   "outputs": [
    {
     "data": {
      "text/plain": [
       "<matplotlib.image.AxesImage at 0x1023cb38>"
      ]
     },
     "execution_count": 15,
     "metadata": {},
     "output_type": "execute_result"
    },
    {
     "data": {
      "image/png": "[encoded data removed]",
      "text/plain": [
       "<Figure size 432x288 with 1 Axes>"
      ]
     },
     "metadata": {
      "needs_background": "light"
     },
     "output_type": "display_data"
    }
   ],
   "source": [
    "plt.imshow(t)"
   ]
  },
  {
   "cell_type": "code",
   "execution_count": 16,
   "metadata": {},
   "outputs": [],
   "source": [
    "T[:,:,0]=255"
   ]
  },
  {
   "cell_type": "code",
   "execution_count": 17,
   "metadata": {},
   "outputs": [
    {
     "data": {
      "text/plain": [
       "<matplotlib.image.AxesImage at 0x10271aa8>"
      ]
     },
     "execution_count": 17,
     "metadata": {},
     "output_type": "execute_result"
    },
    {
     "data": {
      "image/png": "[encoded data removed]",
      "text/plain": [
       "<Figure size 432x288 with 1 Axes>"
      ]
     },
     "metadata": {
      "needs_background": "light"
     },
     "output_type": "display_data"
    }
   ],
   "source": [
    "plt.imshow(T)"
   ]
  },
  {
   "cell_type": "code",
   "execution_count": 18,
   "metadata": {},
   "outputs": [],
   "source": [
    "T[:,:,1]=255"
   ]
  },
  {
   "cell_type": "code",
   "execution_count": 19,
   "metadata": {},
   "outputs": [
    {
     "data": {
      "text/plain": [
       "<matplotlib.image.AxesImage at 0x102a49a0>"
      ]
     },
     "execution_count": 19,
     "metadata": {},
     "output_type": "execute_result"
    },
    {
     "data": {
      "image/png": "[encoded data removed]",
      "text/plain": [
       "<Figure size 432x288 with 1 Axes>"
      ]
     },
     "metadata": {
      "needs_background": "light"
     },
     "output_type": "display_data"
    }
   ],
   "source": [
    "plt.imshow(T)"
   ]
  },
  {
   "cell_type": "code",
   "execution_count": 20,
   "metadata": {},
   "outputs": [
    {
     "data": {
      "text/plain": [
       "<matplotlib.image.AxesImage at 0x102d77a8>"
      ]
     },
     "execution_count": 20,
     "metadata": {},
     "output_type": "execute_result"
    },
    {
     "data": {
      "image/png": "[encoded data removed]",
      "text/plain": [
       "<Figure size 432x288 with 1 Axes>"
      ]
     },
     "metadata": {
      "needs_background": "light"
     },
     "output_type": "display_data"
    }
   ],
   "source": [
    "T[ : , : , 2 ]=255\n",
    "plt.imshow(T)"
   ]
  },
  {
   "cell_type": "code",
   "execution_count": 21,
   "metadata": {},
   "outputs": [
    {
     "data": {
      "image/png": "[encoded data removed]",
      "text/plain": [
       "<Figure size 432x288 with 1 Axes>"
      ]
     },
     "metadata": {
      "needs_background": "light"
     },
     "output_type": "display_data"
    }
   ],
   "source": [
    "t[:,:,0]=255\n",
    "plt.imshow(t)\n",
    "plt.show()"
   ]
  },
  {
   "cell_type": "code",
   "execution_count": 22,
   "metadata": {},
   "outputs": [
    {
     "data": {
      "image/png": "[encoded data removed]",
      "text/plain": [
       "<Figure size 432x288 with 1 Axes>"
      ]
     },
     "metadata": {
      "needs_background": "light"
     },
     "output_type": "display_data"
    }
   ],
   "source": [
    "import numpy as np\n",
    "T=np.zeros((5,5,3),dtype='uint64')\n",
    "T[:,:,1]=255\n",
    "import matplotlib.pyplot as plt\n",
    "plt.imshow(T)\n",
    "plt.show()"
   ]
  },
  {
   "cell_type": "code",
   "execution_count": 23,
   "metadata": {},
   "outputs": [
    {
     "data": {
      "image/png": "[encoded data removed]",
      "text/plain": [
       "<Figure size 432x288 with 1 Axes>"
      ]
     },
     "metadata": {
      "needs_background": "light"
     },
     "output_type": "display_data"
    }
   ],
   "source": [
    "T=np.zeros((5,5,3),dtype='uint64')\n",
    "T[:,:,2]=255\n",
    "plt.imshow(T)\n",
    "plt.show()"
   ]
  },
  {
   "cell_type": "code",
   "execution_count": 24,
   "metadata": {},
   "outputs": [
    {
     "data": {
      "image/png": "[encoded data removed]",
      "text/plain": [
       "<Figure size 432x288 with 1 Axes>"
      ]
     },
     "metadata": {
      "needs_background": "light"
     },
     "output_type": "display_data"
    }
   ],
   "source": [
    "T=np.zeros((5,5,3),dtype='uint64')\n",
    "T[:,:,0]=255\n",
    "plt.imshow(T)\n",
    "plt.show()"
   ]
  },
  {
   "cell_type": "code",
   "execution_count": 25,
   "metadata": {
    "scrolled": false
   },
   "outputs": [
    {
     "data": {
      "image/png": "[encoded data removed]",
      "text/plain": [
       "<Figure size 432x288 with 1 Axes>"
      ]
     },
     "metadata": {
      "needs_background": "light"
     },
     "output_type": "display_data"
    }
   ],
   "source": [
    "T=np.ones((5,5,3),dtype='uint64')\n",
    "T[:,:,2]=255\n",
    "plt.imshow(T)\n",
    "plt.show()"
   ]
  },
  {
   "cell_type": "markdown",
   "metadata": {},
   "source": [
    "TRANSPOSE"
   ]
  },
  {
   "cell_type": "code",
   "execution_count": 26,
   "metadata": {},
   "outputs": [
    {
     "name": "stdout",
     "output_type": "stream",
     "text": [
      "[[ 4  7  5 10]\n",
      " [10 11 13 12]\n",
      " [56 80 90 16]]\n"
     ]
    }
   ],
   "source": [
    "print(X)"
   ]
  },
  {
   "cell_type": "code",
   "execution_count": 27,
   "metadata": {},
   "outputs": [
    {
     "data": {
      "text/plain": [
       "array([[ 4, 10, 56],\n",
       "       [ 7, 11, 80],\n",
       "       [ 5, 13, 90],\n",
       "       [10, 12, 16]])"
      ]
     },
     "execution_count": 27,
     "metadata": {},
     "output_type": "execute_result"
    }
   ],
   "source": [
    "X.T"
   ]
  },
  {
   "cell_type": "code",
   "execution_count": 28,
   "metadata": {},
   "outputs": [
    {
     "name": "stdout",
     "output_type": "stream",
     "text": [
      "[4 5 6]\n"
     ]
    }
   ],
   "source": [
    "print(x)"
   ]
  },
  {
   "cell_type": "code",
   "execution_count": 29,
   "metadata": {},
   "outputs": [],
   "source": [
    "x=np.array([[4,5,6]])"
   ]
  },
  {
   "cell_type": "code",
   "execution_count": 30,
   "metadata": {},
   "outputs": [
    {
     "data": {
      "text/plain": [
       "array([[4, 5, 6]])"
      ]
     },
     "execution_count": 30,
     "metadata": {},
     "output_type": "execute_result"
    }
   ],
   "source": [
    "x"
   ]
  },
  {
   "cell_type": "code",
   "execution_count": 31,
   "metadata": {},
   "outputs": [
    {
     "data": {
      "text/plain": [
       "array([[4],\n",
       "       [5],\n",
       "       [6]])"
      ]
     },
     "execution_count": 31,
     "metadata": {},
     "output_type": "execute_result"
    }
   ],
   "source": [
    "x.T"
   ]
  },
  {
   "cell_type": "code",
   "execution_count": 32,
   "metadata": {},
   "outputs": [
    {
     "data": {
      "text/plain": [
       "array([[4],\n",
       "       [5],\n",
       "       [6]])"
      ]
     },
     "execution_count": 32,
     "metadata": {},
     "output_type": "execute_result"
    }
   ],
   "source": [
    "x.transpose()"
   ]
  },
  {
   "cell_type": "code",
   "execution_count": 33,
   "metadata": {},
   "outputs": [],
   "source": [
    "z=x.transpose()"
   ]
  },
  {
   "cell_type": "code",
   "execution_count": 34,
   "metadata": {},
   "outputs": [
    {
     "data": {
      "text/plain": [
       "array([[4, 5, 6]])"
      ]
     },
     "execution_count": 34,
     "metadata": {},
     "output_type": "execute_result"
    }
   ],
   "source": [
    "x"
   ]
  },
  {
   "cell_type": "code",
   "execution_count": 35,
   "metadata": {},
   "outputs": [
    {
     "data": {
      "text/plain": [
       "array([[4],\n",
       "       [5],\n",
       "       [6]])"
      ]
     },
     "execution_count": 35,
     "metadata": {},
     "output_type": "execute_result"
    }
   ],
   "source": [
    "z"
   ]
  },
  {
   "cell_type": "markdown",
   "metadata": {},
   "source": [
    " ## Images"
   ]
  },
  {
   "cell_type": "code",
   "execution_count": 36,
   "metadata": {},
   "outputs": [
    {
     "name": "stdout",
     "output_type": "stream",
     "text": [
      "(5, 5, 3)\n",
      "[[[  1   1 255]\n",
      "  [  1   1 255]\n",
      "  [  1   1 255]\n",
      "  [  1   1 255]\n",
      "  [  1   1 255]]\n",
      "\n",
      " [[  1   1 255]\n",
      "  [  1   1 255]\n",
      "  [  1   1 255]\n",
      "  [  1   1 255]\n",
      "  [  1   1 255]]\n",
      "\n",
      " [[  1   1 255]\n",
      "  [  1   1 255]\n",
      "  [  1   1 255]\n",
      "  [  1   1 255]\n",
      "  [  1   1 255]]\n",
      "\n",
      " [[  1   1 255]\n",
      "  [  1   1 255]\n",
      "  [  1   1 255]\n",
      "  [  1   1 255]\n",
      "  [  1   1 255]]\n",
      "\n",
      " [[  1   1 255]\n",
      "  [  1   1 255]\n",
      "  [  1   1 255]\n",
      "  [  1   1 255]\n",
      "  [  1   1 255]]]\n"
     ]
    }
   ],
   "source": [
    "print(T.shape)\n",
    "print(T)"
   ]
  },
  {
   "cell_type": "code",
   "execution_count": 37,
   "metadata": {},
   "outputs": [
    {
     "name": "stdout",
     "output_type": "stream",
     "text": [
      "(3, 5, 5)\n",
      "[[[  1   1   1   1   1]\n",
      "  [  1   1   1   1   1]\n",
      "  [  1   1   1   1   1]\n",
      "  [  1   1   1   1   1]\n",
      "  [  1   1   1   1   1]]\n",
      "\n",
      " [[  1   1   1   1   1]\n",
      "  [  1   1   1   1   1]\n",
      "  [  1   1   1   1   1]\n",
      "  [  1   1   1   1   1]\n",
      "  [  1   1   1   1   1]]\n",
      "\n",
      " [[255 255 255 255 255]\n",
      "  [255 255 255 255 255]\n",
      "  [255 255 255 255 255]\n",
      "  [255 255 255 255 255]\n",
      "  [255 255 255 255 255]]]\n"
     ]
    }
   ],
   "source": [
    "T1=np.transpose(T)\n",
    "print(T1.shape)\n",
    "print(T1)"
   ]
  },
  {
   "cell_type": "code",
   "execution_count": 38,
   "metadata": {},
   "outputs": [],
   "source": [
    "Y=np.zeros((5,2,3,4),dtype='uint64')"
   ]
  },
  {
   "cell_type": "code",
   "execution_count": 39,
   "metadata": {},
   "outputs": [
    {
     "name": "stdout",
     "output_type": "stream",
     "text": [
      "[[[[0 0 0 0]\n",
      "   [0 0 0 0]\n",
      "   [0 0 0 0]]\n",
      "\n",
      "  [[0 0 0 0]\n",
      "   [0 0 0 0]\n",
      "   [0 0 0 0]]]\n",
      "\n",
      "\n",
      " [[[0 0 0 0]\n",
      "   [0 0 0 0]\n",
      "   [0 0 0 0]]\n",
      "\n",
      "  [[0 0 0 0]\n",
      "   [0 0 0 0]\n",
      "   [0 0 0 0]]]\n",
      "\n",
      "\n",
      " [[[0 0 0 0]\n",
      "   [0 0 0 0]\n",
      "   [0 0 0 0]]\n",
      "\n",
      "  [[0 0 0 0]\n",
      "   [0 0 0 0]\n",
      "   [0 0 0 0]]]\n",
      "\n",
      "\n",
      " [[[0 0 0 0]\n",
      "   [0 0 0 0]\n",
      "   [0 0 0 0]]\n",
      "\n",
      "  [[0 0 0 0]\n",
      "   [0 0 0 0]\n",
      "   [0 0 0 0]]]\n",
      "\n",
      "\n",
      " [[[0 0 0 0]\n",
      "   [0 0 0 0]\n",
      "   [0 0 0 0]]\n",
      "\n",
      "  [[0 0 0 0]\n",
      "   [0 0 0 0]\n",
      "   [0 0 0 0]]]]\n"
     ]
    }
   ],
   "source": [
    "print(Y)"
   ]
  },
  {
   "cell_type": "code",
   "execution_count": 40,
   "metadata": {},
   "outputs": [
    {
     "name": "stdout",
     "output_type": "stream",
     "text": [
      "(5, 2, 3, 4)\n",
      "(4, 3, 2, 5)\n",
      "[[[[0 0 0 0 0]\n",
      "   [0 0 0 0 0]]\n",
      "\n",
      "  [[0 0 0 0 0]\n",
      "   [0 0 0 0 0]]\n",
      "\n",
      "  [[0 0 0 0 0]\n",
      "   [0 0 0 0 0]]]\n",
      "\n",
      "\n",
      " [[[0 0 0 0 0]\n",
      "   [0 0 0 0 0]]\n",
      "\n",
      "  [[0 0 0 0 0]\n",
      "   [0 0 0 0 0]]\n",
      "\n",
      "  [[0 0 0 0 0]\n",
      "   [0 0 0 0 0]]]\n",
      "\n",
      "\n",
      " [[[0 0 0 0 0]\n",
      "   [0 0 0 0 0]]\n",
      "\n",
      "  [[0 0 0 0 0]\n",
      "   [0 0 0 0 0]]\n",
      "\n",
      "  [[0 0 0 0 0]\n",
      "   [0 0 0 0 0]]]\n",
      "\n",
      "\n",
      " [[[0 0 0 0 0]\n",
      "   [0 0 0 0 0]]\n",
      "\n",
      "  [[0 0 0 0 0]\n",
      "   [0 0 0 0 0]]\n",
      "\n",
      "  [[0 0 0 0 0]\n",
      "   [0 0 0 0 0]]]]\n"
     ]
    }
   ],
   "source": [
    "print(Y.shape)\n",
    "Y1=np.transpose(Y)\n",
    "print(Y1.shape)\n",
    "print(Y1)"
   ]
  },
  {
   "cell_type": "code",
   "execution_count": 41,
   "metadata": {
    "scrolled": true
   },
   "outputs": [
    {
     "name": "stdout",
     "output_type": "stream",
     "text": [
      "[[[[[0 0 0 0 0 0]\n",
      "    [0 0 0 0 0 0]\n",
      "    [0 0 0 0 0 0]\n",
      "    [0 0 0 0 0 0]]\n",
      "\n",
      "   [[0 0 0 0 0 0]\n",
      "    [0 0 0 0 0 0]\n",
      "    [0 0 0 0 0 0]\n",
      "    [0 0 0 0 0 0]]\n",
      "\n",
      "   [[0 0 0 0 0 0]\n",
      "    [0 0 0 0 0 0]\n",
      "    [0 0 0 0 0 0]\n",
      "    [0 0 0 0 0 0]]]\n",
      "\n",
      "\n",
      "  [[[0 0 0 0 0 0]\n",
      "    [0 0 0 0 0 0]\n",
      "    [0 0 0 0 0 0]\n",
      "    [0 0 0 0 0 0]]\n",
      "\n",
      "   [[0 0 0 0 0 0]\n",
      "    [0 0 0 0 0 0]\n",
      "    [0 0 0 0 0 0]\n",
      "    [0 0 0 0 0 0]]\n",
      "\n",
      "   [[0 0 0 0 0 0]\n",
      "    [0 0 0 0 0 0]\n",
      "    [0 0 0 0 0 0]\n",
      "    [0 0 0 0 0 0]]]]\n",
      "\n",
      "\n",
      "\n",
      " [[[[0 0 0 0 0 0]\n",
      "    [0 0 0 0 0 0]\n",
      "    [0 0 0 0 0 0]\n",
      "    [0 0 0 0 0 0]]\n",
      "\n",
      "   [[0 0 0 0 0 0]\n",
      "    [0 0 0 0 0 0]\n",
      "    [0 0 0 0 0 0]\n",
      "    [0 0 0 0 0 0]]\n",
      "\n",
      "   [[0 0 0 0 0 0]\n",
      "    [0 0 0 0 0 0]\n",
      "    [0 0 0 0 0 0]\n",
      "    [0 0 0 0 0 0]]]\n",
      "\n",
      "\n",
      "  [[[0 0 0 0 0 0]\n",
      "    [0 0 0 0 0 0]\n",
      "    [0 0 0 0 0 0]\n",
      "    [0 0 0 0 0 0]]\n",
      "\n",
      "   [[0 0 0 0 0 0]\n",
      "    [0 0 0 0 0 0]\n",
      "    [0 0 0 0 0 0]\n",
      "    [0 0 0 0 0 0]]\n",
      "\n",
      "   [[0 0 0 0 0 0]\n",
      "    [0 0 0 0 0 0]\n",
      "    [0 0 0 0 0 0]\n",
      "    [0 0 0 0 0 0]]]]\n",
      "\n",
      "\n",
      "\n",
      " [[[[0 0 0 0 0 0]\n",
      "    [0 0 0 0 0 0]\n",
      "    [0 0 0 0 0 0]\n",
      "    [0 0 0 0 0 0]]\n",
      "\n",
      "   [[0 0 0 0 0 0]\n",
      "    [0 0 0 0 0 0]\n",
      "    [0 0 0 0 0 0]\n",
      "    [0 0 0 0 0 0]]\n",
      "\n",
      "   [[0 0 0 0 0 0]\n",
      "    [0 0 0 0 0 0]\n",
      "    [0 0 0 0 0 0]\n",
      "    [0 0 0 0 0 0]]]\n",
      "\n",
      "\n",
      "  [[[0 0 0 0 0 0]\n",
      "    [0 0 0 0 0 0]\n",
      "    [0 0 0 0 0 0]\n",
      "    [0 0 0 0 0 0]]\n",
      "\n",
      "   [[0 0 0 0 0 0]\n",
      "    [0 0 0 0 0 0]\n",
      "    [0 0 0 0 0 0]\n",
      "    [0 0 0 0 0 0]]\n",
      "\n",
      "   [[0 0 0 0 0 0]\n",
      "    [0 0 0 0 0 0]\n",
      "    [0 0 0 0 0 0]\n",
      "    [0 0 0 0 0 0]]]]\n",
      "\n",
      "\n",
      "\n",
      " [[[[0 0 0 0 0 0]\n",
      "    [0 0 0 0 0 0]\n",
      "    [0 0 0 0 0 0]\n",
      "    [0 0 0 0 0 0]]\n",
      "\n",
      "   [[0 0 0 0 0 0]\n",
      "    [0 0 0 0 0 0]\n",
      "    [0 0 0 0 0 0]\n",
      "    [0 0 0 0 0 0]]\n",
      "\n",
      "   [[0 0 0 0 0 0]\n",
      "    [0 0 0 0 0 0]\n",
      "    [0 0 0 0 0 0]\n",
      "    [0 0 0 0 0 0]]]\n",
      "\n",
      "\n",
      "  [[[0 0 0 0 0 0]\n",
      "    [0 0 0 0 0 0]\n",
      "    [0 0 0 0 0 0]\n",
      "    [0 0 0 0 0 0]]\n",
      "\n",
      "   [[0 0 0 0 0 0]\n",
      "    [0 0 0 0 0 0]\n",
      "    [0 0 0 0 0 0]\n",
      "    [0 0 0 0 0 0]]\n",
      "\n",
      "   [[0 0 0 0 0 0]\n",
      "    [0 0 0 0 0 0]\n",
      "    [0 0 0 0 0 0]\n",
      "    [0 0 0 0 0 0]]]]\n",
      "\n",
      "\n",
      "\n",
      " [[[[0 0 0 0 0 0]\n",
      "    [0 0 0 0 0 0]\n",
      "    [0 0 0 0 0 0]\n",
      "    [0 0 0 0 0 0]]\n",
      "\n",
      "   [[0 0 0 0 0 0]\n",
      "    [0 0 0 0 0 0]\n",
      "    [0 0 0 0 0 0]\n",
      "    [0 0 0 0 0 0]]\n",
      "\n",
      "   [[0 0 0 0 0 0]\n",
      "    [0 0 0 0 0 0]\n",
      "    [0 0 0 0 0 0]\n",
      "    [0 0 0 0 0 0]]]\n",
      "\n",
      "\n",
      "  [[[0 0 0 0 0 0]\n",
      "    [0 0 0 0 0 0]\n",
      "    [0 0 0 0 0 0]\n",
      "    [0 0 0 0 0 0]]\n",
      "\n",
      "   [[0 0 0 0 0 0]\n",
      "    [0 0 0 0 0 0]\n",
      "    [0 0 0 0 0 0]\n",
      "    [0 0 0 0 0 0]]\n",
      "\n",
      "   [[0 0 0 0 0 0]\n",
      "    [0 0 0 0 0 0]\n",
      "    [0 0 0 0 0 0]\n",
      "    [0 0 0 0 0 0]]]]]\n",
      "(5, 2, 3, 4, 6)\n"
     ]
    }
   ],
   "source": [
    "q=np.zeros((5,2,3,4,6),dtype='uint64')\n",
    "print(q)\n",
    "print(q.shape)"
   ]
  },
  {
   "cell_type": "code",
   "execution_count": 42,
   "metadata": {},
   "outputs": [
    {
     "name": "stdout",
     "output_type": "stream",
     "text": [
      "(5, 3, 5)\n"
     ]
    }
   ],
   "source": [
    "T2=np.transpose(T,axes=(0,2,1))\n",
    "print(T2.shape)"
   ]
  },
  {
   "cell_type": "code",
   "execution_count": 43,
   "metadata": {},
   "outputs": [
    {
     "data": {
      "text/plain": [
       "array([1, 1, 1, 1, 1], dtype=uint64)"
      ]
     },
     "execution_count": 43,
     "metadata": {},
     "output_type": "execute_result"
    }
   ],
   "source": [
    "T2[0,0]"
   ]
  },
  {
   "cell_type": "code",
   "execution_count": 44,
   "metadata": {},
   "outputs": [
    {
     "data": {
      "text/plain": [
       "array([1, 1, 1, 1, 1], dtype=uint64)"
      ]
     },
     "execution_count": 44,
     "metadata": {},
     "output_type": "execute_result"
    }
   ],
   "source": [
    "T1[0,0]"
   ]
  },
  {
   "cell_type": "code",
   "execution_count": 45,
   "metadata": {},
   "outputs": [
    {
     "data": {
      "text/plain": [
       "array([  1,   1, 255], dtype=uint64)"
      ]
     },
     "execution_count": 45,
     "metadata": {},
     "output_type": "execute_result"
    }
   ],
   "source": [
    "T[0,0]"
   ]
  },
  {
   "cell_type": "code",
   "execution_count": 46,
   "metadata": {},
   "outputs": [
    {
     "data": {
      "text/plain": [
       "(5,)"
      ]
     },
     "execution_count": 46,
     "metadata": {},
     "output_type": "execute_result"
    }
   ],
   "source": [
    "T1[0][0].shape"
   ]
  },
  {
   "cell_type": "code",
   "execution_count": 47,
   "metadata": {},
   "outputs": [
    {
     "data": {
      "text/plain": [
       "(3,)"
      ]
     },
     "execution_count": 47,
     "metadata": {},
     "output_type": "execute_result"
    }
   ],
   "source": [
    "T[0][0].shape"
   ]
  },
  {
   "cell_type": "code",
   "execution_count": 48,
   "metadata": {},
   "outputs": [
    {
     "name": "stdout",
     "output_type": "stream",
     "text": [
      "[[4 5 6]]\n",
      "[[ 8  9 10]]\n"
     ]
    }
   ],
   "source": [
    "d=np.array([1,2,3,4])\n",
    "print(x)\n",
    "print(x+4)"
   ]
  },
  {
   "cell_type": "code",
   "execution_count": 49,
   "metadata": {},
   "outputs": [
    {
     "ename": "TypeError",
     "evalue": "can only concatenate list (not \"int\") to list",
     "output_type": "error",
     "traceback": [
      "\u001b[1;31m---------------------------------------------------------------------------\u001b[0m",
      "\u001b[1;31mTypeError\u001b[0m                                 Traceback (most recent call last)",
      "\u001b[1;32m<ipython-input-49-7ef8788db09b>\u001b[0m in \u001b[0;36m<module>\u001b[1;34m\u001b[0m\n\u001b[0;32m      1\u001b[0m \u001b[0me\u001b[0m\u001b[1;33m=\u001b[0m\u001b[1;33m[\u001b[0m\u001b[1;36m1\u001b[0m\u001b[1;33m,\u001b[0m\u001b[1;36m2\u001b[0m\u001b[1;33m]\u001b[0m\u001b[1;33m\u001b[0m\u001b[1;33m\u001b[0m\u001b[0m\n\u001b[1;32m----> 2\u001b[1;33m \u001b[0mprint\u001b[0m\u001b[1;33m(\u001b[0m\u001b[0me\u001b[0m\u001b[1;33m+\u001b[0m\u001b[1;36m4\u001b[0m\u001b[1;33m)\u001b[0m\u001b[1;33m\u001b[0m\u001b[1;33m\u001b[0m\u001b[0m\n\u001b[0m",
      "\u001b[1;31mTypeError\u001b[0m: can only concatenate list (not \"int\") to list"
     ]
    }
   ],
   "source": [
    "e=[1,2]\n",
    "print(e+4)"
   ]
  },
  {
   "cell_type": "code",
   "execution_count": 50,
   "metadata": {},
   "outputs": [
    {
     "data": {
      "text/plain": [
       "array([[ 4,  7,  5, 10],\n",
       "       [10, 11, 13, 12],\n",
       "       [56, 80, 90, 16]])"
      ]
     },
     "execution_count": 50,
     "metadata": {},
     "output_type": "execute_result"
    }
   ],
   "source": [
    "X"
   ]
  },
  {
   "cell_type": "code",
   "execution_count": 53,
   "metadata": {},
   "outputs": [
    {
     "data": {
      "text/plain": [
       "array([1, 2, 3, 4])"
      ]
     },
     "execution_count": 53,
     "metadata": {},
     "output_type": "execute_result"
    }
   ],
   "source": [
    "d"
   ]
  },
  {
   "cell_type": "code",
   "execution_count": 52,
   "metadata": {},
   "outputs": [
    {
     "data": {
      "text/plain": [
       "array([[ 5,  9,  8, 14],\n",
       "       [11, 13, 16, 16],\n",
       "       [57, 82, 93, 20]])"
      ]
     },
     "execution_count": 52,
     "metadata": {},
     "output_type": "execute_result"
    }
   ],
   "source": [
    "X+d"
   ]
  },
  {
   "cell_type": "markdown",
   "metadata": {},
   "source": []
  },
  {
   "cell_type": "code",
   "execution_count": null,
   "metadata": {},
   "outputs": [],
   "source": []
  }
 ],
 "metadata": {
  "kernelspec": {
   "display_name": "Python 3",
   "language": "python",
   "name": "python3"
  },
  "language_info": {
   "codemirror_mode": {
    "name": "ipython",
    "version": 3
   },
   "file_extension": ".py",
   "mimetype": "text/x-python",
   "name": "python",
   "nbconvert_exporter": "python",
   "pygments_lexer": "ipython3",
   "version": "3.8.5"
  }
 },
 "nbformat": 4,
 "nbformat_minor": 4
}
